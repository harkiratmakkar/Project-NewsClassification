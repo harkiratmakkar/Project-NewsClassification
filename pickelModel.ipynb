{
 "cells": [
  {
   "cell_type": "code",
   "execution_count": 9,
   "metadata": {},
   "outputs": [],
   "source": [
    "from tensorflow.keras.preprocessing.sequence import pad_sequences\n",
    "import pickle\n",
    "import numpy as np\n",
    "import re\n",
    "import pandas as pd"
   ]
  },
  {
   "cell_type": "code",
   "execution_count": 10,
   "metadata": {},
   "outputs": [
    {
     "ename": "AttributeError",
     "evalue": "Can't get attribute 'clean_text' on <module '__main__'>",
     "output_type": "error",
     "traceback": [
      "\u001b[0;31m---------------------------------------------------------------------------\u001b[0m",
      "\u001b[0;31mAttributeError\u001b[0m                            Traceback (most recent call last)",
      "Cell \u001b[0;32mIn[10], line 5\u001b[0m\n\u001b[1;32m      1\u001b[0m model_pkl_file \u001b[39m=\u001b[39m \u001b[39m\"\u001b[39m\u001b[39msinglemodel.pkl\u001b[39m\u001b[39m\"\u001b[39m  \n\u001b[1;32m      4\u001b[0m \u001b[39mwith\u001b[39;00m \u001b[39mopen\u001b[39m(model_pkl_file, \u001b[39m'\u001b[39m\u001b[39mrb\u001b[39m\u001b[39m'\u001b[39m) \u001b[39mas\u001b[39;00m file:  \n\u001b[0;32m----> 5\u001b[0m     CATEOGARIES,MAX_SEQUENCE_LENGTH,clean_text,tokenizer,model \u001b[39m=\u001b[39m pickle\u001b[39m.\u001b[39;49mload(file)\n\u001b[1;32m      7\u001b[0m CATEOGARIES \u001b[39m=\u001b[39m np\u001b[39m.\u001b[39marray(\u001b[39msorted\u001b[39m(CATEOGARIES))\n\u001b[1;32m      9\u001b[0m \u001b[39mwith\u001b[39;00m \u001b[39mopen\u001b[39m(\u001b[39m'\u001b[39m\u001b[39msampleNews.txt\u001b[39m\u001b[39m'\u001b[39m) \u001b[39mas\u001b[39;00m f_news:\n",
      "\u001b[0;31mAttributeError\u001b[0m: Can't get attribute 'clean_text' on <module '__main__'>"
     ]
    }
   ],
   "source": [
    "model_pkl_file = \"singlemodel.pkl\"  \n",
    "\n",
    "\n",
    "with open(model_pkl_file, 'rb') as file:  \n",
    "    CATEOGARIES,MAX_SEQUENCE_LENGTH,clean_text,tokenizer,model = pickle.load(file)\n",
    "\n",
    "CATEOGARIES = np.array(sorted(CATEOGARIES))\n",
    "\n",
    "with open('sampleNews.txt') as f_news:\n",
    "    news = f_news.readlines()\n",
    "text_news = news.copy()\n",
    "\n",
    "news = [clean_text(item) for item in news]\n",
    "news = tokenizer.texts_to_sequences(news)\n",
    "news = pad_sequences(news, maxlen=MAX_SEQUENCE_LENGTH)\n",
    "\n",
    "predictions = np.argmax(model.predict(news),axis=1)\n",
    "y_pred = CATEOGARIES[predictions]\n",
    "\n",
    "with open('actualClasses.txt') as f_pred:\n",
    "    y_true = f_pred.read().splitlines()\n",
    "y_true = np.array(y_true)\n",
    "\n",
    "num_false_preds = 0\n",
    "for i in range(len(y_true)):\n",
    "    if y_true[i] != y_pred[i]:\n",
    "        print(str(num_false_preds+1) + \". News: \" + text_news[i],\"True Class: \",y_true[i] + \", Predicted Class: \",y_pred[i])\n",
    "        num_false_preds += 1\n",
    "\n",
    "print(\"# Wrong Predictions = \" + str(num_false_preds) + \" out of \" + str(len(y_true)))"
   ]
  },
  {
   "cell_type": "code",
   "execution_count": null,
   "metadata": {},
   "outputs": [],
   "source": []
  }
 ],
 "metadata": {
  "kernelspec": {
   "display_name": "Python 3",
   "language": "python",
   "name": "python3"
  },
  "language_info": {
   "codemirror_mode": {
    "name": "ipython",
    "version": 3
   },
   "file_extension": ".py",
   "mimetype": "text/x-python",
   "name": "python",
   "nbconvert_exporter": "python",
   "pygments_lexer": "ipython3",
   "version": "3.10.4"
  },
  "orig_nbformat": 4
 },
 "nbformat": 4,
 "nbformat_minor": 2
}
